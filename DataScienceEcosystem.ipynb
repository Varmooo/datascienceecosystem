{
 "cells": [
  {
   "cell_type": "markdown",
   "id": "265ceb32-73c9-45d5-9f7e-092cd9df537b",
   "metadata": {},
   "source": [
    "Exercise 2: Create Markdown cell with title of the notebook"
   ]
  },
  {
   "cell_type": "markdown",
   "id": "3978e51d-3c47-4410-9b67-4e6f9026828f",
   "metadata": {},
   "source": [
    "# Data Science Tools and Ecosystem"
   ]
  },
  {
   "cell_type": "markdown",
   "id": "fb8e5f7a-83f9-487b-b9e2-312f1d3616ae",
   "metadata": {},
   "source": [
    "Exercise 3 - Create a markdown cell for an introduction"
   ]
  },
  {
   "cell_type": "markdown",
   "id": "69506e4f-4ad2-4c03-aebc-23107fd3b750",
   "metadata": {},
   "source": [
    "In this notebook, Data Science Tools and Ecosystem are summarized."
   ]
  },
  {
   "cell_type": "markdown",
   "id": "54154106-1730-4712-a6e0-219342687312",
   "metadata": {},
   "source": [
    "**Objectives**\n",
    "\n",
    "+ List popular languages for Data Science\n",
    "+ List commonly used libraries for Data Science\n",
    "+ Evaluating arithmetic expressions in Python\n",
    "+ Converting minutes to hours using Python"
   ]
  },
  {
   "cell_type": "markdown",
   "id": "f9e0b36a-8545-45e4-8310-e8ed0e71469f",
   "metadata": {},
   "source": [
    "Exercise 4 - Create a markdown cell to list data science languages"
   ]
  },
  {
   "cell_type": "markdown",
   "id": "aa2c34a8-0aab-41ec-99f4-ee089f64b190",
   "metadata": {},
   "source": [
    "Some of the popular languages that Data Scientists use are:\n",
    "1. Python\n",
    "2. R\n",
    "3. SQL\n",
    "4. Java\n",
    "5. C++"
   ]
  },
  {
   "cell_type": "markdown",
   "id": "7dd96cf6-607f-4622-b4b9-8e17f1fb6ad3",
   "metadata": {},
   "source": [
    "Exercise 5 - Create a markdown cell to list data science libraries"
   ]
  },
  {
   "cell_type": "markdown",
   "id": "f3f5b825-75db-42dc-a5ab-8dd826e9b2f3",
   "metadata": {},
   "source": [
    "Some of the commonly used libraries used by Data Scientists include:\n",
    "1. Pandas\n",
    "2. Numpy\n",
    "3. Matplotlib\n",
    "4. TensorFlow"
   ]
  },
  {
   "cell_type": "markdown",
   "id": "f8fcb60e-8270-4c81-a957-55aa6bfc183f",
   "metadata": {},
   "source": [
    "Exercise 6 - Create a markdown cell with a table of Data Science tools"
   ]
  },
  {
   "cell_type": "markdown",
   "id": "dd8f94cf-090e-4092-9365-639b37389085",
   "metadata": {},
   "source": [
    "|Data Science Tools|\n",
    "|------------------|\n",
    "|Jupyter Notebook|\n",
    "|RStudio|\n",
    "|Visual Code Studio|"
   ]
  },
  {
   "cell_type": "markdown",
   "id": "59db5980-f0f5-4483-80e6-9df3b3453582",
   "metadata": {},
   "source": [
    "Exercise 7 - Create a markdown cell introducing arithmetic expression examples"
   ]
  },
  {
   "cell_type": "markdown",
   "id": "3ae55322-4845-4432-8aff-c9cfd3e6ed67",
   "metadata": {},
   "source": [
    "### Below are a few examples of evaluating arithmetic expressions in Python"
   ]
  },
  {
   "cell_type": "markdown",
   "id": "bf1cbdb0-4c5f-4856-8d8d-57ecaa928ea4",
   "metadata": {},
   "source": [
    "Exercise 8 - Create a code cell to multiply and add numbers"
   ]
  },
  {
   "cell_type": "code",
   "execution_count": 2,
   "id": "67844e86-2e1d-40b7-88f5-b65ed1cfe5b0",
   "metadata": {},
   "outputs": [
    {
     "name": "stdout",
     "output_type": "stream",
     "text": [
      "17\n"
     ]
    }
   ],
   "source": [
    "# This is a simple arithmetic expression to multiply then add integers.\n",
    "x = (3*4) + 5\n",
    "print(x)"
   ]
  },
  {
   "cell_type": "markdown",
   "id": "0cb8607f-92f9-4187-b0ba-50b6ecf1ca79",
   "metadata": {},
   "source": [
    "Exercise 9 - Create a code cell to convert minutes to hours"
   ]
  },
  {
   "cell_type": "code",
   "execution_count": 3,
   "id": "e7528fa3-35b9-4567-828f-32e768b1a849",
   "metadata": {},
   "outputs": [
    {
     "name": "stdout",
     "output_type": "stream",
     "text": [
      "3.3333333333333335\n"
     ]
    }
   ],
   "source": [
    "# This will convert 200 minutes to hours by dividing by 60\n",
    "y = 200/60\n",
    "print(y)"
   ]
  },
  {
   "cell_type": "markdown",
   "id": "e1d6054f-379d-4b12-a41f-01f537f90489",
   "metadata": {},
   "source": [
    "## Author\n",
    "Alexander Wilbert Wijaya"
   ]
  },
  {
   "cell_type": "markdown",
   "id": "c635c038-0de4-4826-b6fc-595014f49b06",
   "metadata": {},
   "source": []
  },
  {
   "cell_type": "markdown",
   "id": "e7b519ab-f442-4826-a8c4-af784026ccf4",
   "metadata": {},
   "source": []
  },
  {
   "cell_type": "markdown",
   "id": "62818234-7859-46c3-94aa-58e95331f9cd",
   "metadata": {},
   "source": []
  }
 ],
 "metadata": {
  "kernelspec": {
   "display_name": "Python 3 (ipykernel)",
   "language": "python",
   "name": "python3"
  },
  "language_info": {
   "codemirror_mode": {
    "name": "ipython",
    "version": 3
   },
   "file_extension": ".py",
   "mimetype": "text/x-python",
   "name": "python",
   "nbconvert_exporter": "python",
   "pygments_lexer": "ipython3",
   "version": "3.12.9"
  }
 },
 "nbformat": 4,
 "nbformat_minor": 5
}
